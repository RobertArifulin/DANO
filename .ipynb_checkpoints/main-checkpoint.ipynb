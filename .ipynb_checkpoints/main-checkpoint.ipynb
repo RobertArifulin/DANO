{
 "cells": [
  {
   "cell_type": "code",
   "execution_count": null,
   "id": "5ceefd38-2922-40db-a04b-6173e325382a",
   "metadata": {},
   "outputs": [
    {
     "name": "stdout",
     "output_type": "stream",
     "text": [
      "import successfully\n"
     ]
    }
   ],
   "source": [
    "import numpy as np\n",
    "import pandas as pd\n",
    "import matplotlib.pyplot as plt\n",
    "import seaborn as sns\n",
    "sns.set()\n",
    "from sklearn.linear_model import Ridge\n",
    "from sklearn.metrics import mean_squared_error\n",
    "print(\"import successfully\")"
   ]
  },
  {
   "cell_type": "code",
   "execution_count": null,
   "id": "8ba14241-8da8-4950-b90c-9f328a2642a3",
   "metadata": {},
   "outputs": [],
   "source": [
    "# визуализация коэффициентов линейной регрессии\n",
    "def visualize_coefficients(coefs, feature_names, top_n):\n",
    "    \"\"\"\n",
    "    Функция для визуализации коэффициентов линейной регрессии.\n",
    "\n",
    "    Параметры:\n",
    "    -----------\n",
    "        coefs: коэффициенты модели (model.coef_)\n",
    "        feature_names: названия признаков (X_train.columns)\n",
    "        top_n: вывести top_n самых положительных и top_n самых отрицательных признаков\n",
    "    \"\"\"\n",
    "    feature_names = np.array(feature_names)\n",
    "    if top_n * 2 > len(coefs):\n",
    "        n_pos = len(coefs) // 2\n",
    "        n_neg = len(coefs) - n_pos\n",
    "    else:\n",
    "        n_pos, n_neg = top_n, top_n\n",
    "    # нам нужно найти индексы top_n наибольших и top_n наименьших коэффициентов\n",
    "    min_coef_idxs = np.argsort(coefs)[:n_neg]\n",
    "    max_coef_idxs = np.argsort(coefs)[len(coefs) - n_pos:]\n",
    "    # соответствующие имена фичей\n",
    "    top_feature_names = np.concatenate((feature_names[min_coef_idxs], feature_names[max_coef_idxs]))\n",
    "    # отобразим на bar-графике\n",
    "    fig, ax = plt.subplots(figsize=(16, 9))\n",
    "    ax.bar(np.arange(n_neg), coefs[min_coef_idxs], color=sns.xkcd_rgb['mauve'], hatch='/')\n",
    "    ax.bar(np.arange(n_neg, n_neg + n_pos), coefs[max_coef_idxs], color=sns.xkcd_rgb['teal'], hatch='\\\\')\n",
    "    ax.set_xticks(np.arange(0, n_neg + n_pos))\n",
    "    ax.set_xticklabels(top_feature_names, rotation=45, ha=\"right\", fontsize=14)\n",
    "    plt.show()"
   ]
  },
  {
   "cell_type": "code",
   "execution_count": null,
   "id": "67e77136-052f-4242-8be4-39b8577fde2a",
   "metadata": {
    "tags": []
   },
   "outputs": [],
   "source": [
    "df = pd.read_csv(r'data/tinkoff_legal_entities_new.csv', on_bad_lines=\"skip\", encoding=\"utf_8\", sep=\",\", index_col=\"id\", parse_dates=[\"date\"], dayfirst=True)"
   ]
  },
  {
   "cell_type": "code",
   "execution_count": null,
   "id": "511f2afe-3084-4a2d-ae01-5542bc1647fa",
   "metadata": {},
   "outputs": [],
   "source": [
    "# df[\"ratings_avito_cnt\"] = np.empty((len(df.index),))\n",
    "# df[\"ratings_avito_cnt\"] = np.nan\n",
    "# df[\"ratings_avito_cnt\"] = round(df[\"reviews_cnt_avito\"] * reviews_cnt_to_ratings_cnt)\n",
    "# df[\"ratings_avito_cnt\"].replace(0, round(reviews_cnt_to_ratings_cnt), inplace=True)\n",
    "\n",
    "# df[\"ratings_cnt_2gis\"] = np.empty((len(df.index),))\n",
    "# df[\"ratings_cnt_2gis\"] = np.nan\n",
    "# df[\"ratings_cnt_2gis\"] = round(df[\"reviews_cnt_2gis\"] * reviews_cnt_to_ratings_cnt)\n",
    "# df[\"ratings_cnt_2gis\"].replace(0, round(reviews_cnt_to_ratings_cnt), inplace=True)\n",
    "\n",
    "# df[\"ratings_cnt_yell\"] = np.empty((len(df.index),))\n",
    "# df[\"ratings_cnt_yell\"] = np.nan\n",
    "# df[\"ratings_cnt_yell\"] = round(df[\"reviews_cnt_yell\"] * reviews_cnt_to_ratings_cnt)\n",
    "# df[\"ratings_cnt_yell\"].replace(0, round(reviews_cnt_to_ratings_cnt), inplace=True)\n",
    "\n",
    "df[\"reviews_cnt_ya\"].fillna(0, inplace=True)\n",
    "df[\"reviews_cnt_yell\"].fillna(0, inplace=True)\n",
    "df[\"reviews_cnt_2gis\"].fillna(0, inplace=True)\n",
    "df[\"reviews_cnt_avito\"].fillna(0, inplace=True)\n",
    "\n",
    "df = df.dropna(subset=['reviews_cnt_ya', 'reviews_cnt_yell', \"reviews_cnt_2gis\", \"reviews_cnt_avito\"], how='all')\n",
    "\n",
    "# df[\"rating_avito\"].fillna(0, inplace=True)\n",
    "# df[\"rating_2gis\"].fillna(0, inplace=True)\n",
    "# df[\"rating_yell\"].fillna(0, inplace=True)\n",
    "# df[\"rating_ya\"].fillna(0, inplace=True)\n",
    "\n",
    "df[\"rating\"] = (df[\"rating_ya\"] * df[\"reviews_cnt_ya\"] + df[\"rating_2gis\"] * df[\"reviews_cnt_2gis\"] + df[\"rating_yell\"] * df[\"reviews_cnt_yell\"] + df[\"rating_avito\"] * df[\"reviews_cnt_avito\"])/(df[\"reviews_cnt_ya\"] + df[\"reviews_cnt_2gis\"] + df[\"reviews_cnt_yell\"] + df[\"reviews_cnt_avito\"])"
   ]
  },
  {
   "cell_type": "markdown",
   "id": "04efed03-063d-4ad4-95dd-7e4f33e75865",
   "metadata": {
    "tags": []
   },
   "source": [
    "## Рейтинг притензий от кредитов"
   ]
  },
  {
   "cell_type": "code",
   "execution_count": null,
   "id": "4c13e518-7502-4738-9510-8319b73a7c99",
   "metadata": {},
   "outputs": [
    {
     "name": "stderr",
     "output_type": "stream",
     "text": [
      "No artists with labels found to put in legend.  Note that artists whose label start with an underscore are ignored when legend() is called with no argument.\n"
     ]
    },
    {
     "data": {
      "text/plain": [
       "<matplotlib.legend.Legend at 0x252e5c197f0>"
      ]
     },
     "execution_count": 4,
     "metadata": {},
     "output_type": "execute_result"
    },
    {
     "data": {
      "image/png": "[encoded data removed]",
      "text/plain": [
       "<Figure size 640x480 with 1 Axes>"
      ]
     },
     "metadata": {},
     "output_type": "display_data"
    }
   ],
   "source": [
    "x = \"appl_num\"\n",
    "y1 = \"rating_ya\"\n",
    "y = \"rating\"\n",
    "\n",
    "fig, ax = plt.subplots(1, 1,  figsize=(12, 6))\n",
    "\n",
    "ax.scatter(df[x], df[y], s=30, alpha=0.5)\n",
    "ax.scatter(df[x], df[y1], s=30, alpha=0.5)\n",
    "ax.set_title(\"Рейтинг от кол-ва кредитов\")\n",
    "ax.set_xlabel(\"кол-во кредитов\")\n",
    "ax.set_ylabel(\"рейтинг\")\n",
    "# ax1.yaxis.set_major_locator(ticker.MultipleLocator(50))\n",
    "# plt.xlim([-1, 30])\n",
    "# plt.ylim([-10, 60])\n",
    "plt.legend()\n",
    "# plt.show()\n"
   ]
  },
  {
   "cell_type": "markdown",
   "id": "5706b7fa-63bd-4e6e-9abf-3e4282a7cf91",
   "metadata": {},
   "source": [
    "## Нейронка"
   ]
  },
  {
   "cell_type": "code",
   "execution_count": null,
   "id": "7783f415-1f85-472c-8fb5-62fd838ec4da",
   "metadata": {},
   "outputs": [],
   "source": [
    "except_1 = [\"date\", \"rating_ya\", \"ratings_cnt_ya\", \"reviews_cnt_ya\", \"rating_yell\", \"reviews_cnt_yell\", \"rating_2gis\", \"reviews_cnt_2gis\", \"rating_avito\", \"reviews_cnt_avito\"]\n",
    "for i in except_1:\n",
    "   df = df.drop(i, axis=1)\n"
   ]
  },
  {
   "cell_type": "code",
   "execution_count": null,
   "id": "818fe3c2-4b68-417b-8755-39a449f9efac",
   "metadata": {},
   "outputs": [],
   "source": [
    "df[\"reviews_cnt_to_ratings_cnt\"] = df[\"ratings_cnt_ya\"] / df[\"reviews_cnt_ya\"]\n",
    "df[\"reviews_cnt_to_ratings_cnt\"].replace([np.inf, -np.inf], np.nan, inplace=True)\n",
    "df[\"reviews_cnt_to_ratings_cnt\"].dropna()\n",
    "reviews_cnt_to_ratings_cnt = df[\"reviews_cnt_to_ratings_cnt\"].mean()\n",
    "print(f\"Среднее соотношение кол-ва обзоров к кол-ву оценок: {reviews_cnt_to_ratings_cnt}\")\n",
    "# print(df.info())"
   ]
  },
  {
   "cell_type": "code",
   "execution_count": null,
   "id": "b3076908-eac0-467b-8ee0-cf563ebe2c2e",
   "metadata": {},
   "outputs": [
    {
     "name": "stdout",
     "output_type": "stream",
     "text": [
      "<class 'pandas.core.frame.DataFrame'>\n",
      "Index: 0 entries\n",
      "Data columns (total 29 columns):\n",
      " #   Column                      Non-Null Count  Dtype  \n",
      "---  ------                      --------------  -----  \n",
      " 0   phones_num                  0 non-null      int64  \n",
      " 1   phb_fraud                   0 non-null      float64\n",
      " 2   phb_dirty                   0 non-null      float64\n",
      " 3   phb_all_bad                 0 non-null      float64\n",
      " 4   phb_all                     0 non-null      float64\n",
      " 5   phb_bad_perc                0 non-null      float64\n",
      " 6   found_phones                0 non-null      float64\n",
      " 7   phb_fraud_dir               0 non-null      float64\n",
      " 8   phb_dirty_dir               0 non-null      float64\n",
      " 9   phb_all_bad_dir             0 non-null      float64\n",
      " 10  phb_all_dir                 0 non-null      float64\n",
      " 11  phb_bad_perc_dir            0 non-null      float64\n",
      " 12  found_phones_dir            0 non-null      float64\n",
      " 13  claims_percent              0 non-null      float64\n",
      " 14  claims_num                  0 non-null      float64\n",
      " 15  appl_num                    0 non-null      float64\n",
      " 16  complaints_num              0 non-null      float64\n",
      " 17  complaints_num_dir          0 non-null      float64\n",
      " 18  mvd_request_num             0 non-null      float64\n",
      " 19  bad_rep_tcb                 0 non-null      float64\n",
      " 20  total_case_cnt              0 non-null      float64\n",
      " 21  total_defendant_case_cnt    0 non-null      float64\n",
      " 22  total_defendant_case_amt    0 non-null      float64\n",
      " 23  defendant_case_perc         0 non-null      float64\n",
      " 24  reviews_cnt_to_ratings_cnt  0 non-null      float64\n",
      " 25  ratings_avito_cnt           0 non-null      float64\n",
      " 26  ratings_cnt_2gis            0 non-null      float64\n",
      " 27  ratings_cnt_yell            0 non-null      float64\n",
      " 28  rating                      0 non-null      float64\n",
      "dtypes: float64(28), int64(1)\n",
      "memory usage: 0.0+ bytes\n",
      "None\n"
     ]
    }
   ],
   "source": [
    "df1 = df.dropna()\n",
    "# df1 = pd.DataFrame(df1.loc[:, ['total_case_cnt', \"rating\"]])\n",
    "print(df1.info())"
   ]
  },
  {
   "cell_type": "code",
   "execution_count": null,
   "id": "a0be7e0e-4b1b-4d47-a4e7-e2d08dfb8efe",
   "metadata": {},
   "outputs": [
    {
     "ename": "ValueError",
     "evalue": "Found array with 0 sample(s) (shape=(0, 28)) while a minimum of 1 is required by Ridge.",
     "output_type": "error",
     "traceback": [
      "\u001b[1;31m---------------------------------------------------------------------------\u001b[0m",
      "\u001b[1;31mValueError\u001b[0m                                Traceback (most recent call last)",
      "Cell \u001b[1;32mIn [9], line 16\u001b[0m\n\u001b[0;32m     12\u001b[0m \u001b[38;5;66;03m# test_start = df.iloc[len(df[\"creation_date\"]) // 2:, :].info()\u001b[39;00m\n\u001b[0;32m     13\u001b[0m \u001b[38;5;66;03m# val_start = df.iloc[:len(df[\"creation_date\"]) // 2, :].info()\u001b[39;00m\n\u001b[0;32m     15\u001b[0m model \u001b[38;5;241m=\u001b[39m Ridge(normalize\u001b[38;5;241m=\u001b[39m\u001b[38;5;28;01mTrue\u001b[39;00m)\n\u001b[1;32m---> 16\u001b[0m \u001b[43mmodel\u001b[49m\u001b[38;5;241;43m.\u001b[39;49m\u001b[43mfit\u001b[49m\u001b[43m(\u001b[49m\u001b[43mX_train\u001b[49m\u001b[43m,\u001b[49m\u001b[43m \u001b[49m\u001b[43my_train\u001b[49m\u001b[43m)\u001b[49m\n\u001b[0;32m     17\u001b[0m y_pred \u001b[38;5;241m=\u001b[39m model\u001b[38;5;241m.\u001b[39mpredict(X_val)\n\u001b[0;32m     18\u001b[0m \u001b[38;5;28mprint\u001b[39m(\u001b[38;5;124mf\u001b[39m\u001b[38;5;124m'\u001b[39m\u001b[38;5;124mTest MSE: \u001b[39m\u001b[38;5;132;01m{\u001b[39;00mnp\u001b[38;5;241m.\u001b[39msqrt(mean_squared_error(y_val, y_pred))\u001b[38;5;132;01m}\u001b[39;00m\u001b[38;5;124m'\u001b[39m)\n",
      "File \u001b[1;32m~\\PycharmProjects\\1xboba\\venv\\lib\\site-packages\\sklearn\\linear_model\\_ridge.py:1122\u001b[0m, in \u001b[0;36mRidge.fit\u001b[1;34m(self, X, y, sample_weight)\u001b[0m\n\u001b[0;32m   1102\u001b[0m \u001b[38;5;124;03m\"\"\"Fit Ridge regression model.\u001b[39;00m\n\u001b[0;32m   1103\u001b[0m \n\u001b[0;32m   1104\u001b[0m \u001b[38;5;124;03mParameters\u001b[39;00m\n\u001b[1;32m   (...)\u001b[0m\n\u001b[0;32m   1119\u001b[0m \u001b[38;5;124;03m    Fitted estimator.\u001b[39;00m\n\u001b[0;32m   1120\u001b[0m \u001b[38;5;124;03m\"\"\"\u001b[39;00m\n\u001b[0;32m   1121\u001b[0m _accept_sparse \u001b[38;5;241m=\u001b[39m _get_valid_accept_sparse(sparse\u001b[38;5;241m.\u001b[39missparse(X), \u001b[38;5;28mself\u001b[39m\u001b[38;5;241m.\u001b[39msolver)\n\u001b[1;32m-> 1122\u001b[0m X, y \u001b[38;5;241m=\u001b[39m \u001b[38;5;28;43mself\u001b[39;49m\u001b[38;5;241;43m.\u001b[39;49m\u001b[43m_validate_data\u001b[49m\u001b[43m(\u001b[49m\n\u001b[0;32m   1123\u001b[0m \u001b[43m    \u001b[49m\u001b[43mX\u001b[49m\u001b[43m,\u001b[49m\n\u001b[0;32m   1124\u001b[0m \u001b[43m    \u001b[49m\u001b[43my\u001b[49m\u001b[43m,\u001b[49m\n\u001b[0;32m   1125\u001b[0m \u001b[43m    \u001b[49m\u001b[43maccept_sparse\u001b[49m\u001b[38;5;241;43m=\u001b[39;49m\u001b[43m_accept_sparse\u001b[49m\u001b[43m,\u001b[49m\n\u001b[0;32m   1126\u001b[0m \u001b[43m    \u001b[49m\u001b[43mdtype\u001b[49m\u001b[38;5;241;43m=\u001b[39;49m\u001b[43m[\u001b[49m\u001b[43mnp\u001b[49m\u001b[38;5;241;43m.\u001b[39;49m\u001b[43mfloat64\u001b[49m\u001b[43m,\u001b[49m\u001b[43m \u001b[49m\u001b[43mnp\u001b[49m\u001b[38;5;241;43m.\u001b[39;49m\u001b[43mfloat32\u001b[49m\u001b[43m]\u001b[49m\u001b[43m,\u001b[49m\n\u001b[0;32m   1127\u001b[0m \u001b[43m    \u001b[49m\u001b[43mmulti_output\u001b[49m\u001b[38;5;241;43m=\u001b[39;49m\u001b[38;5;28;43;01mTrue\u001b[39;49;00m\u001b[43m,\u001b[49m\n\u001b[0;32m   1128\u001b[0m \u001b[43m    \u001b[49m\u001b[43my_numeric\u001b[49m\u001b[38;5;241;43m=\u001b[39;49m\u001b[38;5;28;43;01mTrue\u001b[39;49;00m\u001b[43m,\u001b[49m\n\u001b[0;32m   1129\u001b[0m \u001b[43m\u001b[49m\u001b[43m)\u001b[49m\n\u001b[0;32m   1130\u001b[0m \u001b[38;5;28;01mreturn\u001b[39;00m \u001b[38;5;28msuper\u001b[39m()\u001b[38;5;241m.\u001b[39mfit(X, y, sample_weight\u001b[38;5;241m=\u001b[39msample_weight)\n",
      "File \u001b[1;32m~\\PycharmProjects\\1xboba\\venv\\lib\\site-packages\\sklearn\\base.py:596\u001b[0m, in \u001b[0;36mBaseEstimator._validate_data\u001b[1;34m(self, X, y, reset, validate_separately, **check_params)\u001b[0m\n\u001b[0;32m    594\u001b[0m         y \u001b[38;5;241m=\u001b[39m check_array(y, input_name\u001b[38;5;241m=\u001b[39m\u001b[38;5;124m\"\u001b[39m\u001b[38;5;124my\u001b[39m\u001b[38;5;124m\"\u001b[39m, \u001b[38;5;241m*\u001b[39m\u001b[38;5;241m*\u001b[39mcheck_y_params)\n\u001b[0;32m    595\u001b[0m     \u001b[38;5;28;01melse\u001b[39;00m:\n\u001b[1;32m--> 596\u001b[0m         X, y \u001b[38;5;241m=\u001b[39m check_X_y(X, y, \u001b[38;5;241m*\u001b[39m\u001b[38;5;241m*\u001b[39mcheck_params)\n\u001b[0;32m    597\u001b[0m     out \u001b[38;5;241m=\u001b[39m X, y\n\u001b[0;32m    599\u001b[0m \u001b[38;5;28;01mif\u001b[39;00m \u001b[38;5;129;01mnot\u001b[39;00m no_val_X \u001b[38;5;129;01mand\u001b[39;00m check_params\u001b[38;5;241m.\u001b[39mget(\u001b[38;5;124m\"\u001b[39m\u001b[38;5;124mensure_2d\u001b[39m\u001b[38;5;124m\"\u001b[39m, \u001b[38;5;28;01mTrue\u001b[39;00m):\n",
      "File \u001b[1;32m~\\PycharmProjects\\1xboba\\venv\\lib\\site-packages\\sklearn\\utils\\validation.py:1074\u001b[0m, in \u001b[0;36mcheck_X_y\u001b[1;34m(X, y, accept_sparse, accept_large_sparse, dtype, order, copy, force_all_finite, ensure_2d, allow_nd, multi_output, ensure_min_samples, ensure_min_features, y_numeric, estimator)\u001b[0m\n\u001b[0;32m   1069\u001b[0m         estimator_name \u001b[38;5;241m=\u001b[39m _check_estimator_name(estimator)\n\u001b[0;32m   1070\u001b[0m     \u001b[38;5;28;01mraise\u001b[39;00m \u001b[38;5;167;01mValueError\u001b[39;00m(\n\u001b[0;32m   1071\u001b[0m         \u001b[38;5;124mf\u001b[39m\u001b[38;5;124m\"\u001b[39m\u001b[38;5;132;01m{\u001b[39;00mestimator_name\u001b[38;5;132;01m}\u001b[39;00m\u001b[38;5;124m requires y to be passed, but the target y is None\u001b[39m\u001b[38;5;124m\"\u001b[39m\n\u001b[0;32m   1072\u001b[0m     )\n\u001b[1;32m-> 1074\u001b[0m X \u001b[38;5;241m=\u001b[39m \u001b[43mcheck_array\u001b[49m\u001b[43m(\u001b[49m\n\u001b[0;32m   1075\u001b[0m \u001b[43m    \u001b[49m\u001b[43mX\u001b[49m\u001b[43m,\u001b[49m\n\u001b[0;32m   1076\u001b[0m \u001b[43m    \u001b[49m\u001b[43maccept_sparse\u001b[49m\u001b[38;5;241;43m=\u001b[39;49m\u001b[43maccept_sparse\u001b[49m\u001b[43m,\u001b[49m\n\u001b[0;32m   1077\u001b[0m \u001b[43m    \u001b[49m\u001b[43maccept_large_sparse\u001b[49m\u001b[38;5;241;43m=\u001b[39;49m\u001b[43maccept_large_sparse\u001b[49m\u001b[43m,\u001b[49m\n\u001b[0;32m   1078\u001b[0m \u001b[43m    \u001b[49m\u001b[43mdtype\u001b[49m\u001b[38;5;241;43m=\u001b[39;49m\u001b[43mdtype\u001b[49m\u001b[43m,\u001b[49m\n\u001b[0;32m   1079\u001b[0m \u001b[43m    \u001b[49m\u001b[43morder\u001b[49m\u001b[38;5;241;43m=\u001b[39;49m\u001b[43morder\u001b[49m\u001b[43m,\u001b[49m\n\u001b[0;32m   1080\u001b[0m \u001b[43m    \u001b[49m\u001b[43mcopy\u001b[49m\u001b[38;5;241;43m=\u001b[39;49m\u001b[43mcopy\u001b[49m\u001b[43m,\u001b[49m\n\u001b[0;32m   1081\u001b[0m \u001b[43m    \u001b[49m\u001b[43mforce_all_finite\u001b[49m\u001b[38;5;241;43m=\u001b[39;49m\u001b[43mforce_all_finite\u001b[49m\u001b[43m,\u001b[49m\n\u001b[0;32m   1082\u001b[0m \u001b[43m    \u001b[49m\u001b[43mensure_2d\u001b[49m\u001b[38;5;241;43m=\u001b[39;49m\u001b[43mensure_2d\u001b[49m\u001b[43m,\u001b[49m\n\u001b[0;32m   1083\u001b[0m \u001b[43m    \u001b[49m\u001b[43mallow_nd\u001b[49m\u001b[38;5;241;43m=\u001b[39;49m\u001b[43mallow_nd\u001b[49m\u001b[43m,\u001b[49m\n\u001b[0;32m   1084\u001b[0m \u001b[43m    \u001b[49m\u001b[43mensure_min_samples\u001b[49m\u001b[38;5;241;43m=\u001b[39;49m\u001b[43mensure_min_samples\u001b[49m\u001b[43m,\u001b[49m\n\u001b[0;32m   1085\u001b[0m \u001b[43m    \u001b[49m\u001b[43mensure_min_features\u001b[49m\u001b[38;5;241;43m=\u001b[39;49m\u001b[43mensure_min_features\u001b[49m\u001b[43m,\u001b[49m\n\u001b[0;32m   1086\u001b[0m \u001b[43m    \u001b[49m\u001b[43mestimator\u001b[49m\u001b[38;5;241;43m=\u001b[39;49m\u001b[43mestimator\u001b[49m\u001b[43m,\u001b[49m\n\u001b[0;32m   1087\u001b[0m \u001b[43m    \u001b[49m\u001b[43minput_name\u001b[49m\u001b[38;5;241;43m=\u001b[39;49m\u001b[38;5;124;43m\"\u001b[39;49m\u001b[38;5;124;43mX\u001b[39;49m\u001b[38;5;124;43m\"\u001b[39;49m\u001b[43m,\u001b[49m\n\u001b[0;32m   1088\u001b[0m \u001b[43m\u001b[49m\u001b[43m)\u001b[49m\n\u001b[0;32m   1090\u001b[0m y \u001b[38;5;241m=\u001b[39m _check_y(y, multi_output\u001b[38;5;241m=\u001b[39mmulti_output, y_numeric\u001b[38;5;241m=\u001b[39my_numeric, estimator\u001b[38;5;241m=\u001b[39mestimator)\n\u001b[0;32m   1092\u001b[0m check_consistent_length(X, y)\n",
      "File \u001b[1;32m~\\PycharmProjects\\1xboba\\venv\\lib\\site-packages\\sklearn\\utils\\validation.py:909\u001b[0m, in \u001b[0;36mcheck_array\u001b[1;34m(array, accept_sparse, accept_large_sparse, dtype, order, copy, force_all_finite, ensure_2d, allow_nd, ensure_min_samples, ensure_min_features, estimator, input_name)\u001b[0m\n\u001b[0;32m    907\u001b[0m     n_samples \u001b[38;5;241m=\u001b[39m _num_samples(array)\n\u001b[0;32m    908\u001b[0m     \u001b[38;5;28;01mif\u001b[39;00m n_samples \u001b[38;5;241m<\u001b[39m ensure_min_samples:\n\u001b[1;32m--> 909\u001b[0m         \u001b[38;5;28;01mraise\u001b[39;00m \u001b[38;5;167;01mValueError\u001b[39;00m(\n\u001b[0;32m    910\u001b[0m             \u001b[38;5;124m\"\u001b[39m\u001b[38;5;124mFound array with \u001b[39m\u001b[38;5;132;01m%d\u001b[39;00m\u001b[38;5;124m sample(s) (shape=\u001b[39m\u001b[38;5;132;01m%s\u001b[39;00m\u001b[38;5;124m) while a\u001b[39m\u001b[38;5;124m\"\u001b[39m\n\u001b[0;32m    911\u001b[0m             \u001b[38;5;124m\"\u001b[39m\u001b[38;5;124m minimum of \u001b[39m\u001b[38;5;132;01m%d\u001b[39;00m\u001b[38;5;124m is required\u001b[39m\u001b[38;5;132;01m%s\u001b[39;00m\u001b[38;5;124m.\u001b[39m\u001b[38;5;124m\"\u001b[39m\n\u001b[0;32m    912\u001b[0m             \u001b[38;5;241m%\u001b[39m (n_samples, array\u001b[38;5;241m.\u001b[39mshape, ensure_min_samples, context)\n\u001b[0;32m    913\u001b[0m         )\n\u001b[0;32m    915\u001b[0m \u001b[38;5;28;01mif\u001b[39;00m ensure_min_features \u001b[38;5;241m>\u001b[39m \u001b[38;5;241m0\u001b[39m \u001b[38;5;129;01mand\u001b[39;00m array\u001b[38;5;241m.\u001b[39mndim \u001b[38;5;241m==\u001b[39m \u001b[38;5;241m2\u001b[39m:\n\u001b[0;32m    916\u001b[0m     n_features \u001b[38;5;241m=\u001b[39m array\u001b[38;5;241m.\u001b[39mshape[\u001b[38;5;241m1\u001b[39m]\n",
      "\u001b[1;31mValueError\u001b[0m: Found array with 0 sample(s) (shape=(0, 28)) while a minimum of 1 is required by Ridge."
     ]
    }
   ],
   "source": [
    "n = len(df1.index) // 3\n",
    "train = df1.iloc[:n * 2, :]\n",
    "val = df1.iloc[n * 2:n // 2 + n * 2, :]\n",
    "test = df1.iloc[n // 2 + n * 2:, :]\n",
    "\n",
    "y_train = train['rating']\n",
    "X_train = train.drop('rating', axis=1)\n",
    "y_test = test['rating']\n",
    "X_test = test.drop('rating', axis=1).sort_values(\"total_case_cnt\")\n",
    "y_val = val['rating']\n",
    "X_val = val.drop('rating', axis=1).sort_values(\"total_case_cnt\")\n",
    "# test_start = df.iloc[len(df[\"creation_date\"]) // 2:, :].info()\n",
    "# val_start = df.iloc[:len(df[\"creation_date\"]) // 2, :].info()\n",
    "\n",
    "model = Ridge(normalize=True)\n",
    "model.fit(X_train, y_train)\n",
    "y_pred = model.predict(X_val)\n",
    "print(f'Test MSE: {np.sqrt(mean_squared_error(y_val, y_pred))}')\n",
    "visualize_coefficients(model.coef_, X_train.columns, 10)\n",
    "\n",
    "k = 27\n",
    "\n",
    "fig, ax = plt.subplots(figsize=(16,9))\n",
    "ax.plot(X_val[\"total_case_cnt\"][-14*k:], y_pred[-14*k:], color='r')\n",
    "ax.plot(X_val[\"total_case_cnt\"][-14*k:], y_val[-14*k:], color='b')\n",
    "\n",
    "plt.xlabel(\"total_case_cnt\")\n",
    "plt.ylabel(\"rating\")\n",
    "plt.show()"
   ]
  },
  {
   "cell_type": "code",
   "execution_count": null,
   "id": "a3590615-da90-4769-b53e-47fbf91868e9",
   "metadata": {},
   "outputs": [],
   "source": []
  }
 ],
 "metadata": {
  "kernelspec": {
   "display_name": "Python 3 (ipykernel)",
   "language": "python",
   "name": "python3"
  },
  "language_info": {
   "codemirror_mode": {
    "name": "ipython",
    "version": 3
   },
   "file_extension": ".py",
   "mimetype": "text/x-python",
   "name": "python",
   "nbconvert_exporter": "python",
   "pygments_lexer": "ipython3",
   "version": "3.9.6"
  }
 },
 "nbformat": 4,
 "nbformat_minor": 5
}
